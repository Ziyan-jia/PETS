{
 "cells": [
  {
   "cell_type": "code",
   "execution_count": 30,
   "metadata": {},
   "outputs": [],
   "source": [
    "import pybullet as p\n",
    "import time\n",
    "import pybullet_data\n",
    "\n",
    "physicsCilent = p.connect(p.GUI)\n",
    "p.setAdditionalSearchPath(pybullet_data.getDataPath())\n",
    "p.resetDebugVisualizerCamera(cameraDistance=1,cameraYaw=0,cameraPitch=-40,cameraTargetPosition=[0.5,-0.9,0.5])\n",
    "\n",
    "p.resetSimulation()\n",
    "planeID = p.loadURDF(\"plane.urdf\")\n",
    "\n",
    "# Load robot again with fixed base and base position at 0\n",
    "robot = p.loadURDF(\"summer_project/kuka_iiwa/urdf/iiwa7.urdf\", [0, 0, 0], useFixedBase = 1)\n",
    "\n",
    "# Simulate gravity\n",
    "p.setGravity(0, 0, -9.81)\n",
    "\n",
    "p.setRealTimeSimulation(0) # no realtime simulation\n",
    "\n",
    "# Get Orientation\n",
    "# We want to move the robot such as the head of the end-effector is pointed downwards\n",
    "Orientation = p.getQuaternionFromEuler([1.57, 0., 0.])\n",
    "\n",
    "# Calculate IK\n",
    "targetPositionJoints = p.calculateInverseKinematics(robot, 7, [1.0, 0.1, 0.1],targetOrientation = Orientation)\n",
    "\n",
    "# Move joints\n",
    "#p.setJointMotorControlArray(robot, range(7), p.POSITION_CONTROL,targetPositions = targetPositionJoints)\n",
    "\n",
    "\n"
   ]
  },
  {
   "cell_type": "code",
   "execution_count": 31,
   "metadata": {},
   "outputs": [],
   "source": [
    "for i in range(100):\n",
    "    p.stepSimulation()\n",
    "    p.setJointMotorControl2(robot,3, controlMode=p.TORQUE_CONTROL,force=600)\n",
    "    time.sleep(1./240.)\n",
    "\n"
   ]
  },
  {
   "cell_type": "markdown",
   "metadata": {},
   "source": [
    "p.disconnect()"
   ]
  }
 ],
 "metadata": {
  "kernelspec": {
   "display_name": "Python 3",
   "language": "python",
   "name": "python3"
  },
  "language_info": {
   "codemirror_mode": {
    "name": "ipython",
    "version": 3
   },
   "file_extension": ".py",
   "mimetype": "text/x-python",
   "name": "python",
   "nbconvert_exporter": "python",
   "pygments_lexer": "ipython3",
   "version": "3.6.5"
  }
 },
 "nbformat": 4,
 "nbformat_minor": 2
}
