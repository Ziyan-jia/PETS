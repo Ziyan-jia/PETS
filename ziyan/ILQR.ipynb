{
 "cells": [
  {
   "cell_type": "code",
   "execution_count": 1,
   "metadata": {},
   "outputs": [],
   "source": [
    "%matplotlib notebook\n",
    "\n",
    "import numpy as np\n",
    "import matplotlib.pyplot as plt\n",
    "import pybullet as p\n",
    "import pybullet_data \n",
    "import time"
   ]
  },
  {
   "cell_type": "code",
   "execution_count": 2,
   "metadata": {},
   "outputs": [],
   "source": [
    "physicsClient = p.connect(p.GUI)"
   ]
  },
  {
   "cell_type": "code",
   "execution_count": 3,
   "metadata": {},
   "outputs": [],
   "source": [
    "p.setGravity(0,0,-10) \n",
    "p.resetSimulation() \n",
    "p.setAdditionalSearchPath(pybullet_data.getDataPath()) \n",
    "planeId = p.loadURDF(\"plane.urdf\") \n",
    "robotId = p.loadURDF(\"iiwa7.urdf\",flags=9, useFixedBase=1)\n",
    "\n",
    "robotStartPos = [0,0,0]\n",
    "robotStartOrientation = p.getQuaternionFromEuler([0,0,0])\n",
    "\n",
    "p.resetBasePositionAndOrientation(robotId,robotStartPos,robotStartOrientation)\n",
    "\n",
    "p.setJointMotorControlArray(robotId,range(7),p.VELOCITY_CONTROL,forces=np.zeros(7))"
   ]
  },
  {
   "cell_type": "code",
   "execution_count": 4,
   "metadata": {},
   "outputs": [],
   "source": [
    "a=1\n",
    "horizon_length = 1000\n",
    "Q2=0.1*np.eye(14)\n",
    "Q1=1000*np.eye(14)\n",
    "for i in range(7,14):\n",
    "    Q1[i,i]=0.1\n",
    "Q=[]\n",
    "for i in range(1001):\n",
    "    if (i==1000):\n",
    "        Q.append(Q1)\n",
    "    else:\n",
    "        Q.append(Q2)\n",
    "\n",
    "R=0.01*np.eye(7)\n",
    "sigma=0.000001\n",
    "C=np.eye(14)\n",
    "Sigma=np.eye(14)\n",
    "\n",
    "\n",
    "u_bar = np.zeros([7, horizon_length])\n",
    "U = np.zeros([7, horizon_length])\n",
    "Z = np.zeros([14,1001])\n",
    "u= np.zeros([7, horizon_length])\n",
    "    \n",
    "      \n",
    "z_bar=np.zeros([14,1001])\n",
    "target_p = np.array([1,1,1])\n",
    "robotEndOrientation = p.getQuaternionFromEuler([0,0,0])\n",
    "targetPositionsJoints = p.calculateInverseKinematics(robotId,7,target_p,targetOrientation = robotEndOrientation)\n",
    "p.setJointMotorControlArray(robotId,range(7),p.POSITION_CONTROL,targetPositions = targetPositionsJoints)\n",
    "z_bar[0:7,1000]=targetPositionsJoints\n",
    "#for i in range (100):\n",
    "#    p.stepSimulation()\n",
    "#for i in range(7):\n",
    "#    z_bar[i,1000]=p.getJointStates(robotId,range(7))[i][0]\n",
    "#for i in range(7):\n",
    "#    z_bar[i+7,1000]=p.getJointStates(robotId,range(7))[i][1]\n"
   ]
  },
  {
   "cell_type": "code",
   "execution_count": 5,
   "metadata": {},
   "outputs": [],
   "source": [
    "def simulate_system(x, u):\n",
    "    x_next=[]\n",
    "    for i in range(7):\n",
    "        p.resetJointState(robotId,i,x[i],targetVelocity = x[i+7])\n",
    "    \n",
    "    p.setJointMotorControlArray(robotId,range(7), controlMode=p.TORQUE_CONTROL,forces=u)\n",
    "    p.stepSimulation()\n",
    "    for i in range(7):\n",
    "        x_next.append(p.getJointStates(robotId,range(7))[i][0])\n",
    "    for i in range(7):\n",
    "        x_next.append(p.getJointStates(robotId,range(7))[i][1])\n",
    "    x_next = np.array(x_next)\n",
    "    return x_next\n",
    "    \n",
    "    "
   ]
  },
  {
   "cell_type": "code",
   "execution_count": 6,
   "metadata": {},
   "outputs": [],
   "source": [
    "def get_linearization(current_state, control_signal):\n",
    "    eps = 1e-5\n",
    "    A = np.zeros([len(current_state), len(current_state)])\n",
    "    for ii in range(len(current_state)):\n",
    "        x = current_state.copy()\n",
    "        x[ii] += eps\n",
    "        x_inc = simulate_system(x, control_signal)  \n",
    "        x = current_state.copy()\n",
    "        x[ii] -= eps\n",
    "        x_dec = simulate_system(x, control_signal)\n",
    "        A[:,ii] = (x_inc - x_dec) / (2 * eps)\n",
    " \n",
    "    B = np.zeros([len(current_state), len(control_signal)])\n",
    "    for ii in range(len(control_signal)):\n",
    "        u = control_signal.copy()\n",
    "        u[ii] += eps\n",
    "        x_inc = simulate_system(current_state, u)\n",
    "        u = control_signal.copy()\n",
    "        u[ii] -= eps\n",
    "        x_dec = simulate_system(current_state, u)\n",
    "        B[:,ii] = (x_inc - x_dec) / (2 * eps)\n",
    "    return A, B"
   ]
  },
  {
   "cell_type": "code",
   "execution_count": 7,
   "metadata": {},
   "outputs": [],
   "source": [
    "def solve_ricatti_equations(Z,U,Q,R,N,q,r):\n",
    "    \n",
    "    \n",
    "    K_gains = []\n",
    "    k_feedforward = []\n",
    "    P = Q[-1]\n",
    "    p = q[-1].T\n",
    "       \n",
    "    for i in reversed(range(horizon_length)):\n",
    "        A, B = get_linearization(Z[:,i], U[:,i])\n",
    "        K = -np.linalg.inv(B.T @ P @ B + R) @ B.T @ P @ A\n",
    "        K_gains.append(K)\n",
    "        k = -np.linalg.inv(B.T @ P @ B + R) @ (B.T @ p + r[i].T)\n",
    "        k_feedforward.append(k)\n",
    "        W = np.linalg.inv(Sigma)-sigma*C.T.dot(P).dot(C)\n",
    "        iW = np.linalg.inv(W)\n",
    "        p = q[i].T + A.T @ p + A.T @ P @ B @ k + sigma * P.T @ C @ iW @ C.T @ p\n",
    "        P = Q[i] + A.T @ P @ A + A.T @ P @ B @ K + sigma * P.T @ C @ iW @ C.T @ P\n",
    "       \n",
    "       \n",
    "    K_gains = K_gains[::-1]\n",
    "    k_feedforward = k_feedforward[::-1]\n",
    "    return K_gains, k_feedforward"
   ]
  },
  {
   "cell_type": "code",
   "execution_count": 8,
   "metadata": {},
   "outputs": [],
   "source": [
    "def controller(Z,U,q,r,horizon_length,Q,R):\n",
    "    state2=np.empty([14, horizon_length+1])\n",
    "    z0 = np.zeros([14,])\n",
    "    state2[:,0] = z0\n",
    "    u2 = np.zeros([7, 1000])\n",
    "    K,k = solve_ricatti_equations(Z,U,Q,R,horizon_length,q,r)\n",
    "    for i in range(horizon_length):\n",
    "        u2[:,i] = U[:,i] + K[i] @ (state2[:,i] - Z[:,i])+ a*k[i]\n",
    "        state2[:,i+1] = simulate_system(state2[:,i], u2[:,i])\n",
    "        \n",
    "    \n",
    "    state=state2.copy()\n",
    "    u=u2.copy()\n",
    "    return state,u"
   ]
  },
  {
   "cell_type": "code",
   "execution_count": 9,
   "metadata": {},
   "outputs": [],
   "source": [
    "def compute_cost(Z,U,z_bar,u_bar, horizon_length):\n",
    "    J=((Z[:,horizon_length]-z_bar[:,horizon_length]).T)@ Q[horizon_length] @(Z[:,horizon_length]-z_bar[:,horizon_length])\n",
    "    for i in range(horizon_length):\n",
    "        J=J+((Z[:,i]-z_bar[:,i]).T)@ Q[i] @(Z[:,i]-z_bar[:,i])+((U[:,i]-u_bar[:,i]).T @ R @ (U[:,i]-u_bar[:,i]))\n",
    "    \n",
    "    return J"
   ]
  },
  {
   "cell_type": "code",
   "execution_count": 10,
   "metadata": {},
   "outputs": [],
   "source": [
    "def get_quadratic_approximation_cost(Z,U, horizon_length,z_bar,u_bar):\n",
    "    q=[]\n",
    "    r=[]\n",
    "    J=compute_cost(Z,U,z_bar,u_bar, horizon_length)\n",
    "    #J=J+0.5*((z[:,horizon_length]-Z[:,horizon_length]).T)@ Q[horizon_length] @(z[:,horizon_length]-Z[:,horizon_length])+2*(z[:,horizon_length].T-z_bar[:,horizon_length].T)@Q[horizon_length]@(z[:,horizon_length]-Z[:,horizon_length])\n",
    "    for i in range(horizon_length):\n",
    "        #J=J+0.5*((u[:,i]-U[:,i]).T)@ R @(u[:,i]-U[:,i])+0.5*((z[:,i]-Z[:,i]).T)@ Q[i] @(z[:,i]-Z[:,i])+2*((z[:,i]-z_bar[:,i]).T)@Q[i]@(z[:,i]-Z[:,i])+2*((u[:,i]-u_bar[:,i]).T)@R@(u[:,i]-U[:,i])    \n",
    "        q1=2*(Z[:,i]-z_bar[:,i]).T@Q[i]\n",
    "        q.append(q1)\n",
    "        r1=2*(U[:,i]-u_bar[:,i]).T@R\n",
    "        r.append(r1)\n",
    "    \n",
    "    return J,q,r"
   ]
  },
  {
   "cell_type": "code",
   "execution_count": 11,
   "metadata": {},
   "outputs": [
    {
     "name": "stdout",
     "output_type": "stream",
     "text": [
      "3867.7820315414046\n",
      "1555.485844738335\n",
      "1555.486022160221\n",
      "0.5\n",
      "1555.486022160221\n",
      "iteration converged\n"
     ]
    }
   ],
   "source": [
    "J,q,r=get_quadratic_approximation_cost(Z,U, horizon_length,z_bar,u_bar)\n",
    "state,u = controller(Z,U,q,r,horizon_length,Q,R)\n",
    "U = u\n",
    "Z = np.zeros([14, horizon_length+1])\n",
    "for i in range(horizon_length):\n",
    "    Z[:,i+1] = simulate_system(Z[:,i], U[:,i])\n",
    "J1=J\n",
    "print(J)\n",
    "\n",
    "while 1:\n",
    "    J,q,r=get_quadratic_approximation_cost(Z,U, horizon_length,z_bar,u_bar)\n",
    "    state,u = controller(Z,U,q,r,horizon_length,Q,R)\n",
    "    print(J)\n",
    "    if (J<=J1):\n",
    "        U = u\n",
    "        Z = np.zeros([14, horizon_length+1])\n",
    "        for i in range(horizon_length):\n",
    "            Z[:,i+1] = simulate_system(Z[:,i], U[:,i])\n",
    "        if (abs(J1-J)<0.05):\n",
    "            print(\"iteration converged\")\n",
    "            break\n",
    "        J1=J\n",
    "    else:\n",
    "        a=a/2\n",
    "        J1=J\n",
    "        print(a)\n",
    "        \n",
    "            \n",
    "    \n",
    "    "
   ]
  },
  {
   "cell_type": "code",
   "execution_count": 12,
   "metadata": {},
   "outputs": [],
   "source": [
    "x = np.zeros([14,1])\n",
    "for i in range(7):\n",
    "    p.resetJointState(robotId,i,x[i],targetVelocity = x[i+7])"
   ]
  },
  {
   "cell_type": "code",
   "execution_count": 13,
   "metadata": {},
   "outputs": [],
   "source": [
    "for i in range(1000):\n",
    "    p.setJointMotorControlArray(robotId,range(7), controlMode=p.TORQUE_CONTROL,forces= u[:,i])\n",
    "    p.stepSimulation()"
   ]
  }
 ],
 "metadata": {
  "kernelspec": {
   "display_name": "Python 3",
   "language": "python",
   "name": "python3"
  },
  "language_info": {
   "codemirror_mode": {
    "name": "ipython",
    "version": 3
   },
   "file_extension": ".py",
   "mimetype": "text/x-python",
   "name": "python",
   "nbconvert_exporter": "python",
   "pygments_lexer": "ipython3",
   "version": "3.8.5"
  }
 },
 "nbformat": 4,
 "nbformat_minor": 4
}
