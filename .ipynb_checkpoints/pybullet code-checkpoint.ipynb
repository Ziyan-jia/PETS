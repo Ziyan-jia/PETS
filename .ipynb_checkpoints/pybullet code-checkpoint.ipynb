{
 "cells": [
  {
   "cell_type": "code",
   "execution_count": 1,
   "metadata": {},
   "outputs": [],
   "source": [
    "import pybullet as p\n",
    "import pybullet_data \n",
    "import time\n",
    "import numpy as np"
   ]
  },
  {
   "cell_type": "code",
   "execution_count": 2,
   "metadata": {},
   "outputs": [],
   "source": [
    "physicsClient = p.connect(p.GUI)"
   ]
  },
  {
   "cell_type": "code",
   "execution_count": 3,
   "metadata": {},
   "outputs": [],
   "source": [
    "p.setGravity(0,0,-10) \n",
    "p.resetSimulation() \n",
    "p.setAdditionalSearchPath(pybullet_data.getDataPath()) \n",
    "planeId = p.loadURDF(\"plane.urdf\") \n",
    "robotId = p.loadURDF(\"iiwa7.urdf\",flags=9, useFixedBase=1)\n",
    "\n",
    "robotStartPos = [0,0,0]\n",
    "robotStartOrientation = p.getQuaternionFromEuler([0,0,0])\n",
    "\n",
    "p.resetBasePositionAndOrientation(robotId,robotStartPos,robotStartOrientation)\n",
    "\n",
    "\n",
    "\n"
   ]
  },
  {
   "cell_type": "markdown",
   "metadata": {},
   "source": [
    "## I just add two modes for robot arm, Torque Control Mode and Position Control Mode. Please choose either one to see the simulation results."
   ]
  },
  {
   "cell_type": "code",
   "execution_count": 4,
   "metadata": {},
   "outputs": [],
   "source": [
    "#Add torque to a specific joint\n",
    "for i in range(100):\n",
    "    p.stepSimulation()\n",
    "    p.setJointMotorControl2(robotId,3, controlMode=p.TORQUE_CONTROL,force=300)\n",
    "    time.sleep(1 / 240)  "
   ]
  },
  {
   "cell_type": "code",
   "execution_count": 5,
   "metadata": {},
   "outputs": [],
   "source": [
    "#Move joint to a target position\n",
    "robot7StartPos = [0,0,0]\n",
    "robotEndPos = [100,-100,100]\n",
    "robotEndOrientation = p.getQuaternionFromEuler([0,0,0])\n",
    "startPos_array = np.array(robot7StartPos)\n",
    "endPos_array = np.array(robotEndPos)\n",
    "step_array = (endPos_array - startPos_array)\n",
    "\n",
    "robotStepPos = list(step_array + startPos_array)\n",
    "targetPositionsJoints = p.calculateInverseKinematics(robotId,7,robotStepPos,targetOrientation = robotEndOrientation)\n",
    "p.setJointMotorControlArray(robotId,range(7),p.POSITION_CONTROL,targetPositions = targetPositionsJoints)\n",
    "for i in range (100):\n",
    "    p.stepSimulation()\n",
    "    time.sleep(1 / 240)"
   ]
  }
 ],
 "metadata": {
  "kernelspec": {
   "display_name": "Python 3",
   "language": "python",
   "name": "python3"
  },
  "language_info": {
   "codemirror_mode": {
    "name": "ipython",
    "version": 3
   },
   "file_extension": ".py",
   "mimetype": "text/x-python",
   "name": "python",
   "nbconvert_exporter": "python",
   "pygments_lexer": "ipython3",
   "version": "3.8.5"
  }
 },
 "nbformat": 4,
 "nbformat_minor": 4
}
