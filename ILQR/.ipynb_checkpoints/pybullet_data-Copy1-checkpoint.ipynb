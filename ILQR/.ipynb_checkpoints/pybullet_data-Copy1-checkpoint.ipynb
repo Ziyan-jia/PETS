{
 "cells": [
  {
   "cell_type": "code",
   "execution_count": 1,
   "metadata": {},
   "outputs": [],
   "source": [
    "%matplotlib notebook\n",
    "from mpl_toolkits import mplot3d\n",
    "\n",
    "\n",
    "import numpy as np\n",
    "import matplotlib.pyplot as plt\n",
    "import pybullet as p\n",
    "import pybullet_data \n",
    "import time\n",
    "import math\n",
    "import random\n",
    "import torch\n",
    "import torch.nn as nn\n",
    "from torch.autograd import Variable\n"
   ]
  },
  {
   "cell_type": "code",
   "execution_count": 2,
   "metadata": {},
   "outputs": [],
   "source": [
    "physicsClient = p.connect(p.GUI)"
   ]
  },
  {
   "cell_type": "code",
   "execution_count": 3,
   "metadata": {},
   "outputs": [],
   "source": [
    "p.setGravity(0,0,-10) \n",
    "p.resetSimulation() \n",
    "p.setAdditionalSearchPath(pybullet_data.getDataPath()) \n",
    "planeId = p.loadURDF(\"plane.urdf\") \n",
    "robotId = p.loadURDF(\"iiwa7.urdf\",flags=9, useFixedBase=1)\n",
    "\n",
    "robotStartPos = [0,0,0]\n",
    "robotStartOrientation = p.getQuaternionFromEuler([0,0,0])\n",
    "\n",
    "p.resetBasePositionAndOrientation(robotId,robotStartPos,robotStartOrientation)\n",
    "\n",
    "p.setJointMotorControlArray(robotId,range(7),p.VELOCITY_CONTROL,forces=np.zeros(7))"
   ]
  },
  {
   "cell_type": "code",
   "execution_count": 4,
   "metadata": {},
   "outputs": [],
   "source": [
    "def simulate_system(x, u):\n",
    "    x_next=[]\n",
    "    for i in range(7):\n",
    "        p.resetJointState(robotId,i,x[i],targetVelocity = x[i+7])\n",
    "    \n",
    "    p.setJointMotorControlArray(robotId,range(7), controlMode=p.TORQUE_CONTROL,forces=u)\n",
    "    p.stepSimulation()\n",
    "    for i in range(7):\n",
    "        x_next.append(p.getJointStates(robotId,range(7))[i][0])\n",
    "    for i in range(7):\n",
    "        x_next.append(p.getJointStates(robotId,range(7))[i][1])\n",
    "    x_next = np.array(x_next)\n",
    "    return x_next"
   ]
  },
  {
   "cell_type": "code",
   "execution_count": 5,
   "metadata": {},
   "outputs": [],
   "source": [
    "N=100000\n",
    "x = np.zeros([14,N])\n",
    "u= np.zeros([7, N])\n",
    "x_new=np.zeros([14,N])"
   ]
  },
  {
   "cell_type": "code",
   "execution_count": 6,
   "metadata": {},
   "outputs": [
    {
     "name": "stdout",
     "output_type": "stream",
     "text": [
      "[[ 0.45       -0.49444444  0.21111111 ...  0.46111111 -0.61111111\n",
      "   0.34444444]\n",
      " [-0.15555556 -0.06111111 -0.5        ...  0.12222222  0.02222222\n",
      "   0.99444444]\n",
      " [ 0.23333333 -0.83888889 -0.02222222 ... -0.71666667  0.25555556\n",
      "   0.34444444]\n",
      " ...\n",
      " [ 8.65308432  8.61860586  6.91661684 ...  4.01987702  4.51873316\n",
      "   5.78356037]\n",
      " [-9.51039822  0.50120437 -3.58758048 ...  8.78849359 -1.46188412\n",
      "   0.90366242]\n",
      " [-2.28748788  3.25370452 -9.91069085 ... -8.55395509  5.01763095\n",
      "  -8.66222793]]\n",
      "[[ 19.  -9. -24. ...  11.   2. -23.]\n",
      " [ -2.  30.  10. ...  20.  -8. -30.]\n",
      " [-25. -21.  19. ...  -8. -13. -11.]\n",
      " ...\n",
      " [ 10.   5.  19. ...  24.  14. -20.]\n",
      " [-24. -21.  13. ...  -4.  -8.  16.]\n",
      " [-19. -16.   6. ... -18.   4.   2.]]\n"
     ]
    }
   ],
   "source": [
    "for i in range(N):\n",
    "    for j in range(7):\n",
    "        a=random.randint(-180,180)#angule range(-pi,pi)\n",
    "        b=random.uniform(-10, 10)#velocity range\n",
    "        c=random.randint(-30,30)#torque range (-200,200)\n",
    "        x[j,i]=math.radians(a/math.pi)\n",
    "        x[j+7,i]=b\n",
    "        u[j,i]=c\n",
    "print(x)\n",
    "print(u)"
   ]
  },
  {
   "cell_type": "code",
   "execution_count": 7,
   "metadata": {},
   "outputs": [
    {
     "name": "stdout",
     "output_type": "stream",
     "text": [
      "new state is: [[  0.45962305  -0.49473278   0.19530591 ...   0.4670241   -0.63409568\n",
      "    0.37160071]\n",
      " [ -0.16644305  -0.0296752   -0.46941474 ...   0.14539398   0.06213868\n",
      "    1.02897411]\n",
      " [  0.22187766  -0.84754735  -0.02833872 ...  -0.72523661   0.2327216\n",
      "    0.33030051]\n",
      " ...\n",
      " [ 13.23015925  10.60395147   8.25113392 ...  11.60600248   6.45366773\n",
      "    3.74281194]\n",
      " [-11.9579493   -3.91249901  -0.44855174 ...   9.6348448    2.65766844\n",
      "    5.92760129]\n",
      " [-17.1677402   -8.90397717  -4.28718648 ... -24.25088849   3.80714124\n",
      "   -3.59294696]]\n"
     ]
    }
   ],
   "source": [
    "for i in range(N):\n",
    "    x_new[:,i]=simulate_system(x[:,i], u[:,i])\n",
    "print(\"new state is:\", x_new)"
   ]
  },
  {
   "cell_type": "code",
   "execution_count": 8,
   "metadata": {},
   "outputs": [
    {
     "name": "stdout",
     "output_type": "stream",
     "text": [
      "[[ 4.50000000e-01 -1.55555556e-01  2.33333333e-01 ...  1.00000000e+01\n",
      "  -2.40000000e+01 -1.90000000e+01]\n",
      " [-4.94444444e-01 -6.11111111e-02 -8.38888889e-01 ...  5.00000000e+00\n",
      "  -2.10000000e+01 -1.60000000e+01]\n",
      " [ 2.11111111e-01 -5.00000000e-01 -2.22222222e-02 ...  1.90000000e+01\n",
      "   1.30000000e+01  6.00000000e+00]\n",
      " ...\n",
      " [ 4.61111111e-01  1.22222222e-01 -7.16666667e-01 ...  2.40000000e+01\n",
      "  -4.00000000e+00 -1.80000000e+01]\n",
      " [-6.11111111e-01  2.22222222e-02  2.55555556e-01 ...  1.40000000e+01\n",
      "  -8.00000000e+00  4.00000000e+00]\n",
      " [ 3.44444444e-01  9.94444444e-01  3.44444444e-01 ... -2.00000000e+01\n",
      "   1.60000000e+01  2.00000000e+00]]\n"
     ]
    }
   ],
   "source": [
    "x=x.T\n",
    "u = u.T\n",
    "x_train = np.append(x,u,axis=1)\n",
    "print(x_train)"
   ]
  },
  {
   "cell_type": "code",
   "execution_count": 9,
   "metadata": {},
   "outputs": [],
   "source": [
    "y_train = x_new.T"
   ]
  },
  {
   "cell_type": "code",
   "execution_count": 10,
   "metadata": {},
   "outputs": [
    {
     "name": "stdout",
     "output_type": "stream",
     "text": [
      "[[  0.45962305  -0.16644305   0.22187766 ...  13.23015925 -11.9579493\n",
      "  -17.1677402 ]\n",
      " [ -0.49473278  -0.0296752   -0.84754735 ...  10.60395147  -3.91249901\n",
      "   -8.90397717]\n",
      " [  0.19530591  -0.46941474  -0.02833872 ...   8.25113392  -0.44855174\n",
      "   -4.28718648]\n",
      " ...\n",
      " [  0.4670241    0.14539398  -0.72523661 ...  11.60600248   9.6348448\n",
      "  -24.25088849]\n",
      " [ -0.63409568   0.06213868   0.2327216  ...   6.45366773   2.65766844\n",
      "    3.80714124]\n",
      " [  0.37160071   1.02897411   0.33030051 ...   3.74281194   5.92760129\n",
      "   -3.59294696]]\n"
     ]
    }
   ],
   "source": [
    "print(y_train)"
   ]
  },
  {
   "cell_type": "code",
   "execution_count": 11,
   "metadata": {},
   "outputs": [],
   "source": [
    "#input_size = 1\n",
    "input_size = 21\n",
    "output_size = 14\n",
    "num_epochs = 300\n",
    "learning_rate = 0.002\n",
    "\n",
    "x_train = x_train.astype(np.float32)\n",
    "y_train=y_train.astype(np.float32)\n",
    "\n",
    "\n",
    "class LinearRegression(nn.Module):\n",
    "    def __init__(self,input_size,output_size):\n",
    "        super(LinearRegression,self).__init__()\n",
    "        self.linear = nn.Linear(input_size,output_size)\n",
    "\n",
    "    def forward(self,x):\n",
    "        out = self.linear(x) #Forward propogation \n",
    "        return out\n",
    "\n",
    "model = LinearRegression(input_size,output_size)\n",
    "\n",
    "#Lost and Optimizer\n",
    "criterion = nn.MSELoss()\n",
    "optimizer = torch.optim.SGD(model.parameters(),lr=learning_rate)\n",
    "\n",
    "#train the Model\n",
    "for epoch in range(num_epochs):\n",
    "    #convert numpy array to torch Variable\n",
    "    inputs = Variable(torch.from_numpy(x_train)) #convert numpy array to torch tensor\n",
    "    #inputs = Variable(torch.Tensor(x_train))    \n",
    "    targets = Variable(torch.from_numpy(y_train)) #convert numpy array to torch tensor\n",
    "\n",
    "    #forward+ backward + optimize\n",
    "    optimizer.zero_grad() #gradient\n",
    "    outputs = model(inputs) #output\n",
    "    loss = criterion(outputs,targets) #loss function\n",
    "    loss.backward() #backward propogation\n",
    "    optimizer.step() #1-step optimization(gradeint descent)\n",
    "\n"
   ]
  },
  {
   "cell_type": "code",
   "execution_count": 12,
   "metadata": {},
   "outputs": [
    {
     "name": "stdout",
     "output_type": "stream",
     "text": [
      "w:[[-1.76890090e-01  1.69474974e-01 -9.98860523e-02 -1.72635615e-01\n",
      "   4.95251045e-02  7.30510354e-02 -1.82116255e-01  5.04984194e-03\n",
      "   1.18030896e-02  3.07773356e-03 -2.29798141e-03  6.69663213e-03\n",
      "   1.01095829e-02  4.78207087e-03  1.33390145e-04 -2.89943800e-05\n",
      "  -2.40938694e-04 -7.12421752e-05  5.51823214e-05  7.81420385e-06\n",
      "   1.34631482e-04]\n",
      " [-6.79811463e-02  1.09535061e-01 -9.78549421e-02  7.97934085e-02\n",
      "  -4.91888933e-02 -1.71327159e-01 -1.66871399e-02  6.82089478e-03\n",
      "   1.34819029e-02 -2.37485906e-03  8.51210766e-03 -1.08976522e-02\n",
      "   1.23825008e-02 -2.17936444e-03  7.46643054e-05 -1.95030898e-05\n",
      "   1.16133517e-04  1.68186772e-04 -1.67625494e-05 -1.85961435e-05\n",
      "  -8.04311185e-06]\n",
      " [ 1.71353165e-02  3.71231921e-02 -1.61501274e-01  1.86415076e-01\n",
      "   8.28160495e-02 -1.95223302e-01 -2.03325488e-02 -1.15125412e-02\n",
      "   3.09876259e-03  1.39392195e-02  1.17917238e-02 -1.02989911e-03\n",
      "   3.04985070e-03  2.41449918e-04 -8.30022545e-05 -1.14812228e-05\n",
      "   2.48710596e-04 -1.88530685e-04 -2.14911648e-04 -8.47762858e-05\n",
      "  -3.34962897e-05]\n",
      " [ 1.73801789e-03 -4.64772992e-02  7.99893215e-02 -1.72225818e-01\n",
      "  -8.23184475e-02 -1.08597502e-01  1.15072034e-01 -1.49258776e-04\n",
      "  -2.39943736e-03 -4.68371529e-03  7.29038788e-04 -1.68407196e-03\n",
      "  -6.17589196e-03  3.85052757e-03  6.00417079e-05 -1.52024149e-05\n",
      "   3.10453994e-04 -1.28275191e-04  8.82418390e-05  8.47751289e-05\n",
      "   6.10252437e-06]\n",
      " [-5.03147468e-02  1.38839230e-01 -9.00467560e-02 -4.46390286e-02\n",
      "   1.42570704e-01 -6.61079586e-02  1.45099565e-01 -4.21250891e-03\n",
      "  -6.85010152e-03  2.40420899e-03  8.76337942e-03  3.31419666e-04\n",
      "   1.21634714e-02 -3.55530949e-03  5.03197698e-05  8.16971369e-05\n",
      "  -8.92688331e-05 -2.54640527e-05  1.10463449e-03  3.35849036e-04\n",
      "  -6.73524628e-04]\n",
      " [ 1.45605639e-01 -1.61447078e-01 -2.47155894e-02  3.94152366e-02\n",
      "  -1.87203377e-01  1.47565201e-01 -1.95801899e-01  1.07252542e-02\n",
      "   3.46703548e-03 -9.18242789e-04 -2.36619776e-03  4.93516959e-03\n",
      "   8.13319907e-03 -6.61364757e-03 -9.12053874e-05 -1.34291258e-04\n",
      "   8.30645949e-05  1.68033686e-04  2.69522570e-04  5.52959798e-04\n",
      "  -1.82545100e-05]\n",
      " [ 1.40634462e-01  1.93364963e-01  2.65401006e-02  1.20051198e-01\n",
      "  -8.41846596e-03 -1.12705722e-01  1.81226190e-02 -8.10674950e-03\n",
      "   4.45128325e-03  6.64851954e-03  5.44225937e-03 -3.53606604e-03\n",
      "  -1.00434441e-02 -2.92123063e-03 -1.85369063e-04 -4.06677736e-06\n",
      "  -2.31192898e-04 -3.54580043e-05 -6.49832131e-04 -1.58252878e-04\n",
      "   3.34260333e-03]\n",
      " [-1.10410452e-01  6.61457470e-03 -4.85491306e-02 -1.68009877e-01\n",
      "   1.99299499e-01  1.29155859e-01  7.62106553e-02  9.27050114e-01\n",
      "  -7.82534387e-03  5.62790828e-03 -1.10600877e-03  4.07939218e-03\n",
      "   3.77426622e-04 -1.00206700e-03  2.32154429e-02  1.09835360e-04\n",
      "  -2.21957248e-02  3.10709554e-04 -1.44778154e-04  2.48083757e-04\n",
      "  -5.63391513e-05]\n",
      " [ 5.78892045e-02 -2.02597380e-01 -1.39118418e-01 -1.94170490e-01\n",
      "  -1.73703700e-01 -2.08964106e-02 -1.87700912e-02 -6.60564343e-04\n",
      "   9.48729873e-01  3.04384710e-04 -1.01353200e-02 -9.55342408e-03\n",
      "  -1.50429935e-03 -6.52882876e-03  2.08551268e-04  3.08923796e-03\n",
      "  -3.09795549e-04  5.19171031e-03  2.39773275e-04  2.79026618e-03\n",
      "  -2.98620813e-04]\n",
      " [-1.55979944e-02 -3.03706862e-02  2.53869426e-02  1.23833403e-01\n",
      "   8.74747187e-02 -1.04161114e-01 -8.18765387e-02  6.36634370e-03\n",
      "  -5.26350131e-03  9.07457471e-01 -1.04268929e-02  8.50218255e-03\n",
      "  -1.20442137e-02 -4.41620313e-03 -2.21124738e-02 -2.21041391e-05\n",
      "   6.92307428e-02 -1.74579705e-04 -4.55532372e-02  1.02557812e-03\n",
      "  -6.85479783e-04]\n",
      " [-1.03607699e-01  1.81718454e-01 -8.27261657e-02 -1.13724202e-01\n",
      "   1.21329330e-01  1.11770943e-01  1.92194626e-01 -5.48344047e-04\n",
      "   8.80931132e-03 -2.20592204e-03  9.31100190e-01 -1.54407031e-03\n",
      "  -4.52166237e-03  4.27830266e-03  1.96024703e-04  5.21325320e-03\n",
      "  -1.36303817e-04  1.67375132e-02  1.13381566e-02  2.30076741e-02\n",
      "  -1.04449010e-02]\n",
      " [ 1.05347529e-01 -9.69598889e-02 -8.16772953e-02 -1.48237213e-01\n",
      "   1.05581276e-01 -3.78036387e-02  1.21390723e-01  2.68064032e-04\n",
      "   5.77351835e-04  2.03067232e-02 -1.13594513e-02  8.34615409e-01\n",
      "  -2.66587157e-02  7.31449351e-02 -3.19191749e-04  4.70059749e-04\n",
      "  -4.50650305e-02  1.13479272e-02  2.04802528e-01  4.25239205e-02\n",
      "  -1.42918184e-01]\n",
      " [-1.77755654e-01 -1.52389333e-01  7.86663368e-02 -8.98018852e-02\n",
      "  -2.49801460e-03 -2.16982946e-01  4.06867601e-02 -7.62021495e-03\n",
      "   1.08852156e-03 -8.06897506e-03 -6.57274155e-03 -2.62488127e-02\n",
      "   8.63923490e-01  1.95963718e-02 -1.74707617e-04  3.41980648e-03\n",
      "   1.14591618e-03  2.31864769e-02  4.21439782e-02  1.61321893e-01\n",
      "  -4.00267318e-02]\n",
      " [-1.52799368e-01  1.86887980e-01 -1.80929720e-01  4.91276160e-02\n",
      "   1.38975874e-01  1.36642322e-01 -1.70002356e-01 -1.08347805e-02\n",
      "  -6.47219969e-03  4.62850742e-03  6.17856253e-03  5.97775355e-02\n",
      "   2.27930378e-02  5.58421373e-01  1.74355228e-04 -2.34577645e-04\n",
      "  -1.29802094e-03 -1.06486389e-02 -1.42927572e-01 -4.00105007e-02\n",
      "   7.93367743e-01]],b:[ 0.0619063   0.16277382  0.00729599 -0.11401345 -0.01204301  0.00222567\n",
      " -0.1663646  -0.04175388 -0.08459764  0.04213462 -0.11395046  0.07988291\n",
      " -0.19582827 -0.11131528]\n",
      "tensor(0.9576, grad_fn=<MseLossBackward>)\n"
     ]
    }
   ],
   "source": [
    "w = model.linear.weight.data.numpy()\n",
    "b = model.linear.bias.data.numpy()\n",
    "print('w:{},b:{}'.format(w,b))\n",
    "print(loss)"
   ]
  },
  {
   "cell_type": "code",
   "execution_count": 13,
   "metadata": {
    "scrolled": false
   },
   "outputs": [
    {
     "name": "stdout",
     "output_type": "stream",
     "text": [
      "[  0.23178354   0.1148214    0.0879299   -0.29898876   0.17215067\n",
      "  -0.15699564  -0.35198718  -0.5304712    7.1452003   -1.0895047\n",
      "  -0.67603993  11.087455    -2.3385298  -10.185847  ]\n",
      "[-0.49473277 -0.0296752  -0.84754735  0.38183632  0.533072    0.7836979\n",
      "  0.92401123 -0.06920084  7.544618   -2.0780299  -1.6926172  10.603951\n",
      " -3.912499   -8.903977  ]\n"
     ]
    }
   ],
   "source": [
    "y_new = w@x_train[1,:].T+b\n",
    "print(y_new)\n",
    "print(y_train[1,:])"
   ]
  },
  {
   "cell_type": "code",
   "execution_count": 21,
   "metadata": {},
   "outputs": [],
   "source": [
    "for i in range(7):\n",
    "        p.resetJointState(robotId,i,y_new[i],targetVelocity = y_new[i+7])"
   ]
  },
  {
   "cell_type": "code",
   "execution_count": 22,
   "metadata": {},
   "outputs": [],
   "source": [
    "for i in range(7):\n",
    "        p.resetJointState(robotId,i,y_train[1,i],targetVelocity = y_train[1,i+7])"
   ]
  },
  {
   "cell_type": "code",
   "execution_count": 5,
   "metadata": {
    "scrolled": true
   },
   "outputs": [
    {
     "name": "stdout",
     "output_type": "stream",
     "text": [
      "[  3. -18.  28.   7. -26.  10.  14.]\n",
      "[  0.45662485   0.37251037   1.03471971   0.64772252   0.72732039\n",
      "   0.53907829   0.92093734   5.5899647    0.06915529   8.33272973\n",
      "   3.45340603 -12.10977284  -2.62121083  10.35829541]\n"
     ]
    }
   ],
   "source": [
    "x_test = np.array([4.33333333e-01,  3.72222222e-01,  1.00000000e+00,  6.33333333e-01,\n",
    "   7.77777778e-01,  5.50000000e-01,  8.77777778e-01,  5.61716944e+00,\n",
    "   4.94226108e-01,  7.71834766e+00,  3.36154878e+00, -7.54252866e+00,\n",
    "  -4.02101231e+00, -3.41661910e+00,  3.00000000e+00, -1.80000000e+01,\n",
    "   2.80000000e+01,  7.00000000e+00, -2.60000000e+01,  1.00000000e+01,\n",
    "   1.40000000e+01])\n",
    "u_test = x_test[14::]\n",
    "print(u_test)\n",
    "yy = simulate_system(x_test, u_test)\n",
    "print(yy)"
   ]
  },
  {
   "cell_type": "code",
   "execution_count": 19,
   "metadata": {},
   "outputs": [],
   "source": [
    "for i in range(7):\n",
    "        p.resetJointState(robotId,i,yy[i],targetVelocity = yy[i+7])"
   ]
  },
  {
   "cell_type": "code",
   "execution_count": 20,
   "metadata": {},
   "outputs": [],
   "source": [
    "for i in range(7):\n",
    "        p.resetJointState(robotId,i,y_test[i],targetVelocity = y_test[i+7])"
   ]
  }
 ],
 "metadata": {
  "kernelspec": {
   "display_name": "Python 3",
   "language": "python",
   "name": "python3"
  },
  "language_info": {
   "codemirror_mode": {
    "name": "ipython",
    "version": 3
   },
   "file_extension": ".py",
   "mimetype": "text/x-python",
   "name": "python",
   "nbconvert_exporter": "python",
   "pygments_lexer": "ipython3",
   "version": "3.8.5"
  }
 },
 "nbformat": 4,
 "nbformat_minor": 5
}
